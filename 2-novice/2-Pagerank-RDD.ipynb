{
 "cells": [
  {
   "cell_type": "markdown",
   "metadata": {},
   "source": [
    "Before you turn this problem in, make sure everything runs as expected. First, **restart the kernel** (in the menubar, select Kernel$\\rightarrow$Restart) and then **run all cells** (in the menubar, select Cell$\\rightarrow$Run All).\n",
    "\n",
    "Make sure you fill in any place that says `YOUR CODE HERE` or \"YOUR ANSWER HERE\", as well as your name and collaborators below:"
   ]
  },
  {
   "cell_type": "code",
   "execution_count": 1,
   "metadata": {},
   "outputs": [],
   "source": [
    "NAME = \"juan pablo aguirre\""
   ]
  },
  {
   "cell_type": "markdown",
   "metadata": {},
   "source": [
    "---"
   ]
  },
  {
   "cell_type": "markdown",
   "metadata": {
    "deletable": false,
    "editable": false,
    "nbgrader": {
     "cell_type": "markdown",
     "checksum": "61cb5fd48672f7fe2deeb6f01680b9d7",
     "grade": false,
     "grade_id": "cell-3a4ff94b0637e50b",
     "locked": true,
     "schema_version": 3,
     "solution": false
    }
   },
   "source": [
    "---\n",
    "# PageRank\n",
    "\n",
    "PageRank is a function that assigns a real number to each page in the Web (or at least to that portion of the Web that has been crawled and its links discovered). The intent is that the higher the PageRank of a page, the more \"important\" it is.\n",
    "\n",
    "Hadoop has its origins in Apache Nutch, an open source web search engine, and one of the first use cases for Big Data technologies and MapReduce was the indexing of millions of webpages. In the following application, we will delve into an implementation of an iterative algorithm, the PageRank, which is well suited to Spark.\n",
    "\n",
    "We will deal with the following simplified web system :\n",
    "\n",
    "![](pagerank.png)\n",
    "\n",
    "We have four web pages (a, b, c, and d) in our system :\n",
    "\n",
    "* Web page A has outbound links to pages B, C, D\n",
    "* Web page B has outbound links to C, D\n",
    "* Web page C has outbound link to B\n",
    "* Web page D has outbound link to A, C\n",
    "\n",
    "We will implement a [simpler version of PageRank](https://en.wikipedia.org/wiki/PageRank#Simplified_algorithm) in PySpark."
   ]
  },
  {
   "cell_type": "code",
   "execution_count": 2,
   "metadata": {
    "deletable": false,
    "editable": false,
    "nbgrader": {
     "cell_type": "code",
     "checksum": "e91053d427b5879011c180ec29ac1454",
     "grade": false,
     "grade_id": "cell-5a0f6b0e4501ff0f",
     "locked": true,
     "schema_version": 3,
     "solution": false
    }
   },
   "outputs": [
    {
     "data": {
      "text/plain": "<SparkContext master=local appName=lecture-lyon2>",
      "text/html": "\n        <div>\n            <p><b>SparkContext</b></p>\n\n            <p><a href=\"http://e48659c20014:4040\">Spark UI</a></p>\n\n            <dl>\n              <dt>Version</dt>\n                <dd><code>v3.0.1</code></dd>\n              <dt>Master</dt>\n                <dd><code>local</code></dd>\n              <dt>AppName</dt>\n                <dd><code>lecture-lyon2</code></dd>\n            </dl>\n        </div>\n        "
     },
     "execution_count": 2,
     "metadata": {},
     "output_type": "execute_result"
    }
   ],
   "source": [
    "from pyspark import SparkContext, SparkConf\n",
    "\n",
    "conf = SparkConf().setAppName('lecture-lyon2').setMaster('local')\n",
    "sc = SparkContext.getOrCreate(conf=conf)\n",
    "sc"
   ]
  },
  {
   "cell_type": "code",
   "execution_count": 3,
   "metadata": {
    "deletable": false,
    "editable": false,
    "nbgrader": {
     "cell_type": "code",
     "checksum": "1a7bc52e72be761da2e669def12fa683",
     "grade": false,
     "grade_id": "cell-3bb3414dbe5ef62a",
     "locked": true,
     "schema_version": 3,
     "solution": false
    }
   },
   "outputs": [],
   "source": [
    "from pyspark.rdd import RDD\n",
    "\n",
    "import pandas as pd\n",
    "%matplotlib inline"
   ]
  },
  {
   "cell_type": "markdown",
   "metadata": {
    "deletable": false,
    "editable": false,
    "nbgrader": {
     "cell_type": "markdown",
     "checksum": "06ce3d10351ccc2a36942f24a4504520",
     "grade": false,
     "grade_id": "cell-553d68cfb7f21770",
     "locked": true,
     "schema_version": 3,
     "solution": false
    }
   },
   "source": [
    "---\n",
    "## Input Data\n",
    "\n",
    "When crawling the Web for URLs and their neighbors, we will append all the new data in the same file. As such we expect the format to be the following when reading from the filesystem, which is easier to append on :\n",
    "\n",
    "```\n",
    "URL1         neighbor1\n",
    "URL1         neighbor2\n",
    "URL2         neighbor1\n",
    "...\n",
    "```\n",
    "\n",
    "We prefer to work on a data structure where all neighbors of the same URL are grouped on one line:\n",
    "\n",
    "```\n",
    "URL1   [neighbor1, neighbor2]\n",
    "URL2   [neighbor1]\n",
    "...\n",
    "```\n",
    "\n",
    "Let's build two functions to alternate between both representations."
   ]
  },
  {
   "cell_type": "markdown",
   "metadata": {
    "deletable": false,
    "editable": false,
    "nbgrader": {
     "cell_type": "markdown",
     "checksum": "44db1124a4e068a5489d11cd0ae1495e",
     "grade": false,
     "grade_id": "cell-6b3a76574dbacb60",
     "locked": true,
     "schema_version": 3,
     "solution": false
    }
   },
   "source": [
    "# Question\n",
    "\n",
    "Generate a web system as an RDD of tuples (page name, neighbor page name) from a RDD of tuples (page name, list of all neighbors).\n",
    "\n",
    "_Hint: we are working with PairedRDDs here, don't hesitate to check the [API reference](https://spark.apache.org/docs/2.2.0/api/python/pyspark.html#pyspark.RDD) of RDDs for functions like `mapValues` or `flatMapValues`_"
   ]
  },
  {
   "cell_type": "code",
   "execution_count": null,
   "metadata": {},
   "outputs": [],
   "source": []
  },
  {
   "cell_type": "code",
   "execution_count": 4,
   "metadata": {
    "deletable": false,
    "nbgrader": {
     "cell_type": "code",
     "checksum": "e0d42803b5eb49494dd69e25bba9529c",
     "grade": false,
     "grade_id": "cell-ba01e9815a0baede",
     "locked": false,
     "schema_version": 3,
     "solution": true
    }
   },
   "outputs": [],
   "source": [
    "def ungroup_input(sc, system):\n",
    "    \"\"\"\n",
    "    Generate the websystem as an RDD of tuples (page, neighbor page)\n",
    "    \"\"\"\n",
    "    return system.flatMapValues(lambda x: x)"
   ]
  },
  {
   "cell_type": "code",
   "execution_count": 5,
   "metadata": {
    "deletable": false,
    "editable": false,
    "nbgrader": {
     "cell_type": "code",
     "checksum": "f204b6dcaa7ff0c6f5bd8593e70e4ee6",
     "grade": true,
     "grade_id": "cell-78ea834aed419021",
     "locked": true,
     "points": 2,
     "schema_version": 3,
     "solution": false
    }
   },
   "outputs": [],
   "source": [
    "\"\"\"\n",
    "Graded cell\n",
    "\n",
    "2 points\n",
    "\"\"\"\n",
    "system = sc.parallelize([\n",
    "        ('a', ['b','c','d']),\n",
    "        ('c', ['b']), \n",
    "        ('b', ['c','d']), \n",
    "        ('d', ['a','c'])\n",
    "    ])\n",
    "result = ungroup_input(sc, system).collect()\n",
    "assert result == [\n",
    "    ('a', 'b'), ('a', 'c'), ('a', 'd'),\n",
    "    ('c', 'b'),\n",
    "    ('b', 'c'), ('b', 'd'),\n",
    "    ('d', 'a'), ('d', 'c')\n",
    "]"
   ]
  },
  {
   "cell_type": "markdown",
   "metadata": {
    "deletable": false,
    "editable": false,
    "nbgrader": {
     "cell_type": "markdown",
     "checksum": "cbdd0da478a38ab685ee9a3fa0a0e930",
     "grade": false,
     "grade_id": "cell-0f33e18a12b0b887",
     "locked": true,
     "schema_version": 3,
     "solution": false
    }
   },
   "source": [
    "# Question\n",
    "\n",
    "The inverse of the previous question.\n",
    "\n",
    "_Hint: don't hesitate to collect and print your RDD. You may most notably find out that `pyspark.resultiterable.ResultIterable\n",
    "` is not the result we want_"
   ]
  },
  {
   "cell_type": "code",
   "execution_count": null,
   "metadata": {},
   "outputs": [],
   "source": []
  },
  {
   "cell_type": "code",
   "execution_count": 6,
   "metadata": {
    "deletable": false,
    "nbgrader": {
     "cell_type": "code",
     "checksum": "b8ea1ada5d35d91e13bf574c372638cd",
     "grade": false,
     "grade_id": "cell-aefe881e9174aa9f",
     "locked": false,
     "schema_version": 3,
     "solution": true
    }
   },
   "outputs": [],
   "source": [
    "def group_input(sc, system):\n",
    "    \"\"\"\n",
    "    Generate the websystem as an RDD of tuples (page, list of neighbors)\n",
    "    \"\"\"\n",
    "    return system.groupByKey().mapValues(list)"
   ]
  },
  {
   "cell_type": "code",
   "execution_count": 7,
   "metadata": {
    "deletable": false,
    "editable": false,
    "nbgrader": {
     "cell_type": "code",
     "checksum": "8c04fdc38a83dad5214fbb1c1ee0b445",
     "grade": true,
     "grade_id": "cell-6d4738d3810854af",
     "locked": true,
     "points": 2,
     "schema_version": 3,
     "solution": false
    }
   },
   "outputs": [],
   "source": [
    "\"\"\"\n",
    "Graded cell\n",
    "\n",
    "2 points\n",
    "\"\"\"\n",
    "system = sc.parallelize([('a', 'b'), ('a', 'c'), ('a', 'd'), ('c', 'b'), ('b', 'c'), ('b', 'd'), ('d', 'a'), ('d', 'c')])\n",
    "result = group_input(sc, system).collect()\n",
    "assert result == [\n",
    "        ('a', ['b','c','d']),\n",
    "        ('c', ['b']),\n",
    "        ('b', ['c','d']),\n",
    "        ('d', ['a','c'])\n",
    "]"
   ]
  },
  {
   "cell_type": "markdown",
   "metadata": {
    "deletable": false,
    "editable": false,
    "nbgrader": {
     "cell_type": "markdown",
     "checksum": "c66d6b66022c7f7fbbbb45d4bbb36089",
     "grade": false,
     "grade_id": "cell-4b58d1f608f8b2d1",
     "locked": true,
     "schema_version": 3,
     "solution": false
    }
   },
   "source": [
    "---\n",
    "## Page contributions\n",
    "\n",
    "At each iteration, we need to compute URL contributions to the rank of other URLs. The PageRank transferred from a given page to the targets of its outbound links upon the next iteration is divided equally among all outbound links.\n",
    "\n",
    "$$Contribution\\ to\\ a\\ page = \\frac{pagerank\\ of\\ contributing\\ page}{number\\ outbound\\ links\\ from\\ contributing\\ page}$$\n",
    "\n",
    "Then, for a page, we will sum the contribution of every page linking to the page.\n",
    "\n",
    "Finally, the update pagerank for a page, given a damping factor $s$ will be :\n",
    "\n",
    "$$ pagerank(u) = 1 - s + s \\times \\sum_{v \\in B_u} \\frac{pagerank(v)}{L(v)} $$\n",
    "\n",
    "i.e. the PageRank value for a page $u$ is dependent on the PageRank values for each page $v$ contained in the set $B_u$ (the set containing all pages linking to page $u$), divided by the number $L(v)$ of links from page $v$.\n",
    "\n",
    "<hr>\n",
    "\n",
    "# Question\n",
    "\n",
    "First, we are going to build the page contribution of a page to a set of outbound urls in `computeContribs(urls, rank)`. The first arugment gives the outbound links of a page, the second argument gives the rank of the page, and we return a list of tuples (outbound url, contribution to the outbound url)."
   ]
  },
  {
   "cell_type": "code",
   "execution_count": null,
   "metadata": {},
   "outputs": [],
   "source": []
  },
  {
   "cell_type": "code",
   "execution_count": 8,
   "metadata": {
    "deletable": false,
    "nbgrader": {
     "cell_type": "code",
     "checksum": "6109052ca146cc6dfab596224f13fb35",
     "grade": false,
     "grade_id": "cell-c974e73d789a0363",
     "locked": false,
     "schema_version": 3,
     "solution": true
    }
   },
   "outputs": [],
   "source": [
    "def computeContribs(urls, rank):\n",
    "    \"\"\"\n",
    "    Calculates URL contributions to the rank of other URLs.\n",
    "    \"\"\"\n",
    "    return sc.parallelize(urls).map(lambda x: (x, rank/len(urls))).collect()"
   ]
  },
  {
   "cell_type": "code",
   "execution_count": 9,
   "metadata": {
    "deletable": false,
    "editable": false,
    "nbgrader": {
     "cell_type": "code",
     "checksum": "14389c6ac7c2f4e8605337f13c4160b9",
     "grade": true,
     "grade_id": "cell-c18d834672a4b30e",
     "locked": true,
     "points": 2,
     "schema_version": 3,
     "solution": false
    }
   },
   "outputs": [],
   "source": [
    "\"\"\"\n",
    "Graded cell\n",
    "\n",
    "2 points\n",
    "\"\"\"\n",
    "\n",
    "assert computeContribs(['b', 'c', 'd'], 1) == [('b', 1/3), ('c', 1/3), ('d', 1/3)]"
   ]
  },
  {
   "cell_type": "markdown",
   "metadata": {
    "deletable": false,
    "editable": false,
    "nbgrader": {
     "cell_type": "markdown",
     "checksum": "0a1775764e63121c36a48f918570cec5",
     "grade": false,
     "grade_id": "cell-55ab1a6e46c1c8a0",
     "locked": true,
     "schema_version": 3,
     "solution": false
    }
   },
   "source": [
    "# Question\n",
    "\n",
    "Build a RDD of contributions, which is an RDD of tuples (URL, contributed rank from some page) using the links and ranks RDD.\n",
    "\n",
    "Following is the structure of each RDD :\n",
    "\n",
    "* links RDD\n",
    "\n",
    "```\n",
    "page1    [list of neighbors to page1]\n",
    "page2    [list of neighbors to page2]\n",
    "...\n",
    "```\n",
    "\n",
    "* ranks RDD\n",
    "\n",
    "```\n",
    "page1    rank1\n",
    "page2    rank2\n",
    "...\n",
    "```"
   ]
  },
  {
   "cell_type": "code",
   "execution_count": null,
   "metadata": {},
   "outputs": [],
   "source": []
  },
  {
   "cell_type": "code",
   "execution_count": 10,
   "metadata": {
    "deletable": false,
    "nbgrader": {
     "cell_type": "code",
     "checksum": "00ec8b94863b6383c18f1838e9c101bc",
     "grade": false,
     "grade_id": "cell-a30893daa13a4fff",
     "locked": false,
     "schema_version": 3,
     "solution": true
    }
   },
   "outputs": [],
   "source": [
    "def generate_contributions(sc, links, ranks):\n",
    "    \"\"\"\n",
    "    Calculates URL contributions to the rank of other URLs.\n",
    "    \"\"\"\n",
    "    return sc.parallelize(sum([ computeContribs(link[1][0], link[1][1]) for link in links.join(ranks).collect() ], []))"
   ]
  },
  {
   "cell_type": "code",
   "execution_count": 14,
   "metadata": {
    "deletable": false,
    "editable": false,
    "nbgrader": {
     "cell_type": "code",
     "checksum": "80089ed85bac321844a938d46bfc3c2c",
     "grade": true,
     "grade_id": "cell-aac6a42e933c83e7",
     "locked": true,
     "points": 2,
     "schema_version": 3,
     "solution": false
    }
   },
   "outputs": [],
   "source": [
    "\"\"\"\n",
    "Graded cell\n",
    "\n",
    "2 points\n",
    "\"\"\"\n",
    "links = sc.parallelize([\n",
    "        ('a', ['b','c','d']),\n",
    "        ('c', ['b']), \n",
    "        ('b', ['c','d']), \n",
    "        ('d', ['a','c'])\n",
    "    ])\n",
    "\n",
    "ranks = sc.parallelize([\n",
    "        ('a', 1.0),\n",
    "        ('c', 3.0), \n",
    "        ('b', 2.0), \n",
    "        ('d', 4.0)\n",
    "])\n",
    "\n",
    "assert generate_contributions(sc, links, ranks).collect() == [\n",
    "    ('b', 3.0), # contribution from c\n",
    "    ('c', 1.0), ('d', 1.0), # contribution from b\n",
    "    ('a', 2.0), ('c', 2.0), # contribution from d\n",
    "    ('b', 1/3), ('c', 1/3), ('d', 1/3) # contribution from a\n",
    "]"
   ]
  },
  {
   "cell_type": "markdown",
   "metadata": {
    "deletable": false,
    "editable": false,
    "nbgrader": {
     "cell_type": "markdown",
     "checksum": "58f320919045cad9e9750c8d80e62b88",
     "grade": false,
     "grade_id": "cell-c0df1c21968ddc6c",
     "locked": true,
     "schema_version": 3,
     "solution": false
    }
   },
   "source": [
    "# Question\n",
    "\n",
    "Compute new ranks for each URL by summing all contributions from outbound URL, and applying the damping factor."
   ]
  },
  {
   "cell_type": "code",
   "execution_count": null,
   "metadata": {},
   "outputs": [],
   "source": []
  },
  {
   "cell_type": "code",
   "execution_count": 21,
   "metadata": {
    "deletable": false,
    "nbgrader": {
     "cell_type": "code",
     "checksum": "ebb7bd68df38a199bf5a8c77cb64b80d",
     "grade": false,
     "grade_id": "cell-25566dc159afc986",
     "locked": false,
     "schema_version": 3,
     "solution": true
    }
   },
   "outputs": [],
   "source": [
    "def generate_ranks(sc, contributions, damping):\n",
    "    \"\"\"\n",
    "    Calculates URL contributions to the rank of other URLs.\n",
    "    \"\"\"\n",
    "    return contributions.reduceByKey(lambda x, y: x + y).map(lambda x: (x[0], 1 - damping + damping * x[1]))"
   ]
  },
  {
   "cell_type": "code",
   "execution_count": 22,
   "metadata": {
    "deletable": false,
    "editable": false,
    "nbgrader": {
     "cell_type": "code",
     "checksum": "96e3a5d5ecd8c718651ae76fef59658a",
     "grade": true,
     "grade_id": "cell-763f5c3a7606f7ce",
     "locked": true,
     "points": 2,
     "schema_version": 3,
     "solution": false
    }
   },
   "outputs": [],
   "source": [
    "\"\"\"\n",
    "Graded cell\n",
    "\n",
    "2 points\n",
    "\"\"\"\n",
    "contributions = sc.parallelize([\n",
    "    ('b', 3.0), \n",
    "    ('c', 1.0), ('d', 1.0), \n",
    "    ('a', 2.0), ('c', 2.0), \n",
    "    ('b', 1/3), ('c', 1/3), ('d', 1/3) \n",
    "])\n",
    "\n",
    "result = generate_ranks(sc, contributions, 0.85).collect() \n",
    "assert [v for k,v in result if k == 'a'][0] == 1.85\n",
    "assert [v for k,v in result if k == 'b'][0] - 2.98 < 0.1\n",
    "assert [v for k,v in result if k == 'c'][0] - 2.98 < 0.1\n",
    "assert [v for k,v in result if k == 'd'][0] - 1.28 < 0.1"
   ]
  },
  {
   "cell_type": "markdown",
   "metadata": {
    "deletable": false,
    "editable": false,
    "nbgrader": {
     "cell_type": "markdown",
     "checksum": "864f9cbf79069ba1b4c623064411ebe6",
     "grade": false,
     "grade_id": "cell-073dff583c2e7e84",
     "locked": true,
     "schema_version": 3,
     "solution": false
    }
   },
   "source": [
    "---\n",
    "## Algorithm\n",
    "\n",
    "Let's build the iteration. At each step :\n",
    "\n",
    "1. Generate all contributions\n",
    "2. Generate and update ranks RDD\n",
    "\n",
    "# Question\n",
    "\n",
    "Let's create a Pandas dataframe with schema \\[a, b, c, d\\]. At each iteration, add a row with Pagerank value for each node in the corresponding column. Return the Pandas dataframe as a result so we can investigate it."
   ]
  },
  {
   "cell_type": "code",
   "execution_count": 26,
   "metadata": {
    "deletable": false,
    "editable": false,
    "nbgrader": {
     "cell_type": "code",
     "checksum": "f58eb9bc0feaf9247ffb62d998bf6e6e",
     "grade": false,
     "grade_id": "cell-ad661c446d6d5027",
     "locked": true,
     "schema_version": 3,
     "solution": false
    }
   },
   "outputs": [],
   "source": [
    "def initialize(sc):\n",
    "    \"\"\"\n",
    "    Initialize links and ranks RDDs\n",
    "    \"\"\"\n",
    "    # Loads all URLs from input file and initialize their neighbors.\n",
    "    links = sc.parallelize([('a', 'b'), ('a', 'c'), ('a', 'd'), ('c', 'b'), ('b', 'c'), ('b', 'd'), ('d', 'a'), ('d', 'c')])\n",
    "    links = group_input(sc, links).cache() # put the links RDD in cache because it will be reused a lot\n",
    "\n",
    "    # Initialize all ranks to 0.25\n",
    "    ranks = links.keys().map(lambda url: (url, 0.25))\n",
    "    \n",
    "    return (links, ranks)"
   ]
  },
  {
   "cell_type": "code",
   "execution_count": 45,
   "metadata": {},
   "outputs": [
    {
     "name": "stdout",
     "output_type": "stream",
     "text": [
      "<class 'pyspark.rdd.PipelinedRDD'>\n",
      "[('a', ['b', 'c', 'd']), ('c', ['b']), ('b', ['c', 'd']), ('d', ['a', 'c'])] \n",
      "\n",
      "\n",
      "<class 'pyspark.rdd.PipelinedRDD'>\n",
      "[('a', 0.25), ('c', 0.25), ('b', 0.25), ('d', 0.25)] \n",
      "\n",
      "\n",
      "{'a': [0.25, 0.25625000000000003], 'b': [0.25, 0.43333333333333335], 'c': [0.25, 0.43333333333333335], 'd': [0.25, 0.32708333333333334]}\n",
      "         a         b         c         d\n",
      "0  0.25000  0.250000  0.250000  0.250000\n",
      "1  0.25625  0.433333  0.433333  0.327083\n"
     ]
    }
   ],
   "source": [
    "links, ranks = initialize(sc)\n",
    "\n",
    "print(type(links))\n",
    "print(links.collect(), '\\n\\n')\n",
    "\n",
    "print(type(ranks))\n",
    "print(ranks.collect(), '\\n\\n')\n",
    "\n",
    "# ranks\n",
    "rank1 = generate_contributions(sc,links,ranks)\n",
    "rank1.collect()\n",
    "\n",
    "rank2 = generate_ranks(sc,rank1,0.85)\n",
    "rank3 = rank2.collect()\n",
    "\n",
    "# page rank\n",
    "pr = {'a':[0.25], 'b':[0.25], 'c':[0.25], 'd':[0.25]}\n",
    "for rank in rank3:\n",
    "    pr[rank[0]].append(rank[1])\n",
    "print(pr)\n",
    "\n",
    "df = pd.DataFrame(pr, columns=['a', 'b', 'c', 'd'])\n",
    "print(df.head())"
   ]
  },
  {
   "cell_type": "code",
   "execution_count": 48,
   "metadata": {
    "deletable": false,
    "nbgrader": {
     "cell_type": "code",
     "checksum": "c8a746952304318b0640273b8c374cce",
     "grade": false,
     "grade_id": "cell-1b52f6cbe8b24b33",
     "locked": false,
     "schema_version": 3,
     "solution": true
    }
   },
   "outputs": [],
   "source": [
    "def main(sc, iterations, damping, links, ranks):\n",
    "    \"\"\"\n",
    "    Main logic. Return pandas dataframe with appended pageranks for each node in order of iterations.\n",
    "    \n",
    "    Example: \n",
    "    Index A B C D\n",
    "    1     1 2 3 4   <-- iteration 1\n",
    "    2     2 3 4 5   <-- iteration 2\n",
    "    ...\n",
    "    \"\"\"\n",
    "    columns = ['a', 'b', 'c', 'd']\n",
    "    pageranks = {\n",
    "        'a':[0.25], 'b':[0.25], 'c':[0.25], 'd':[0.25]\n",
    "    }\n",
    "    for iteration in range(iterations):\n",
    "        print(\"At iteration %s\" % (iteration + 1))\n",
    "        # we have to use the previous developed functions\n",
    "        contributions = generate_contributions(sc,links,ranks)\n",
    "        ranks = generate_ranks(sc,contributions,damping)\n",
    "        normal_ranks = ranks.collect()\n",
    "        for r in normal_ranks:\n",
    "            pageranks[r[0]].append(round(r[1],5))\n",
    "\n",
    "    return pd.DataFrame(pageranks, columns=columns)"
   ]
  },
  {
   "cell_type": "code",
   "execution_count": 49,
   "metadata": {
    "deletable": false,
    "editable": false,
    "nbgrader": {
     "cell_type": "code",
     "checksum": "d48caa67f7ca6ef4b2bc767ae6906050",
     "grade": true,
     "grade_id": "cell-20beeb806608508b",
     "locked": true,
     "points": 5,
     "schema_version": 3,
     "solution": false
    }
   },
   "outputs": [
    {
     "name": "stdout",
     "output_type": "stream",
     "text": [
      "At iteration 1\n"
     ]
    }
   ],
   "source": [
    "\"\"\"\n",
    "Graded cell\n",
    "\n",
    "5 points\n",
    "\"\"\"\n",
    "links, ranks = initialize(sc)\n",
    "result = main(sc, 1, 0.85, links, ranks)\n",
    "\n",
    "assert result.to_dict()['a'][1] == 0.25625\n",
    "assert result.to_dict()['b'][1] - (0.1 + 1/3) < 0.1\n",
    "assert result.to_dict()['c'][1] - (0.1 + 1/3) < 0.1\n",
    "assert result.to_dict()['d'][1] - 0.327083 < 0.1"
   ]
  },
  {
   "cell_type": "code",
   "execution_count": 50,
   "metadata": {
    "deletable": false,
    "editable": false,
    "nbgrader": {
     "cell_type": "code",
     "checksum": "4b1bef71ff4251a2f560bfc4acbcdd7b",
     "grade": false,
     "grade_id": "cell-0865154406099572",
     "locked": true,
     "schema_version": 3,
     "solution": false
    }
   },
   "outputs": [
    {
     "name": "stdout",
     "output_type": "stream",
     "text": [
      "At iteration 1\n",
      "At iteration 2\n",
      "At iteration 3\n",
      "At iteration 4\n",
      "At iteration 5\n",
      "At iteration 6\n",
      "At iteration 7\n",
      "At iteration 8\n",
      "At iteration 9\n",
      "At iteration 10\n",
      "At iteration 11\n",
      "At iteration 12\n",
      "At iteration 13\n",
      "At iteration 14\n",
      "At iteration 15\n",
      "At iteration 16\n",
      "At iteration 17\n",
      "At iteration 18\n",
      "At iteration 19\n",
      "At iteration 20\n",
      "At iteration 21\n",
      "At iteration 22\n",
      "At iteration 23\n",
      "At iteration 24\n",
      "At iteration 25\n"
     ]
    },
    {
     "data": {
      "text/plain": "<AxesSubplot:>"
     },
     "execution_count": 50,
     "metadata": {},
     "output_type": "execute_result"
    },
    {
     "data": {
      "text/plain": "<Figure size 432x288 with 1 Axes>",
      "image/png": "[encoded data removed]"
     },
     "metadata": {
      "needs_background": "light"
     },
     "output_type": "display_data"
    }
   ],
   "source": [
    "# We can plot the DataFrame of pagerank evolution\n",
    "# beware, this cell takes a long time to run\n",
    "\n",
    "links, ranks = initialize(sc)\n",
    "result = main(sc, 25, 0.85, links, ranks)\n",
    "result.plot()"
   ]
  },
  {
   "cell_type": "code",
   "execution_count": null,
   "metadata": {
    "deletable": false,
    "editable": false,
    "nbgrader": {
     "cell_type": "code",
     "checksum": "7d28a5f8c6864f83f6809c09de8d0adc",
     "grade": false,
     "grade_id": "cell-9ee5ac50e5280da2",
     "locked": true,
     "schema_version": 3,
     "solution": false
    }
   },
   "outputs": [],
   "source": [
    "sc.stop()"
   ]
  }
 ],
 "metadata": {
  "kernelspec": {
   "display_name": "Python 3",
   "language": "python",
   "name": "python3"
  },
  "language_info": {
   "codemirror_mode": {
    "name": "ipython",
    "version": 3
   },
   "file_extension": ".py",
   "mimetype": "text/x-python",
   "name": "python",
   "nbconvert_exporter": "python",
   "pygments_lexer": "ipython3",
   "version": "3.8.6"
  }
 },
 "nbformat": 4,
 "nbformat_minor": 2
}